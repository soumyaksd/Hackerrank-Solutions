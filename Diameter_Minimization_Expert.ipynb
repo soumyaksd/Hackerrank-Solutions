{
  "nbformat": 4,
  "nbformat_minor": 0,
  "metadata": {
    "colab": {
      "name": "Diameter Minimization_Expert.ipynb",
      "version": "0.3.2",
      "provenance": [],
      "include_colab_link": true
    },
    "kernelspec": {
      "name": "python3",
      "display_name": "Python 3"
    }
  },
  "cells": [
    {
      "cell_type": "markdown",
      "metadata": {
        "id": "view-in-github",
        "colab_type": "text"
      },
      "source": [
        "<a href=\"https://colab.research.google.com/github/soumyaksd/Hackerrank-Solutions/blob/master/Diameter_Minimization_Expert.ipynb\" target=\"_parent\"><img src=\"https://colab.research.google.com/assets/colab-badge.svg\" alt=\"Open In Colab\"/></a>"
      ]
    },
    {
      "metadata": {
        "id": "yCCIX5pvPSyq",
        "colab_type": "text"
      },
      "cell_type": "markdown",
      "source": [
        "Given two integers *n*  and  *m* build a strongly-connected oriented graph with  *n* vertices where each vertex has outdegree *m *and the graph's diameter is as small as possible .\n",
        "\n",
        "[Link to Challenge](https://www.hackerrank.com/challenges/diameter-minimization/problem)"
      ]
    },
    {
      "metadata": {
        "id": "1SNcsshjPQb1",
        "colab_type": "code",
        "colab": {}
      },
      "cell_type": "code",
      "source": [
        "'''    \n",
        "    Approach\n",
        "    for n=5 and m=2\n",
        "    Matrix=[0,1]\n",
        "           [2,3]\n",
        "           [4,0]\n",
        "           [1,2]\n",
        "           [3,4]\n",
        "    diameter is no. of edges traversed to reach node 4 from node 0\n",
        "'''"
      ],
      "execution_count": 0,
      "outputs": []
    },
    {
      "metadata": {
        "id": "TUj8tGacMf5Z",
        "colab_type": "code",
        "colab": {
          "base_uri": "https://localhost:8080/",
          "height": 119
        },
        "outputId": "5b1165be-0460-4a74-b3df-f4c1a5bb07d3"
      },
      "cell_type": "code",
      "source": [
        "#!/bin/python3\n",
        "\n",
        "import math\n",
        "import os\n",
        "import random\n",
        "import re\n",
        "import sys\n",
        "\n",
        "\n",
        "\n",
        "if __name__ == '__main__':\n",
        "    #nm = input().split()\n",
        "\n",
        "    #n = int(nm[0])\n",
        "\n",
        "    #m = int(nm[1])\n",
        "    n=5\n",
        "    m=2\n",
        "    Matrix = [[0 for j in range(m)] for i in range(n)]\n",
        "    count=0;\n",
        "    for i in range(0,n):\n",
        "        for j in range(0,m):\n",
        "            if(count==n):\n",
        "                count=0\n",
        "            Matrix[i][j]=count\n",
        "            count=count+1\n",
        "    k=n-1\n",
        "    dia=0\n",
        "    while(not(k==0)):\n",
        "        for i in range(0,n):\n",
        "            if(k in Matrix[i]):\n",
        "                k=i\n",
        "                i=0\n",
        "                dia=dia+1\n",
        "                #print(k)\n",
        "                break;\n",
        "    print(dia)\n",
        "    for i in range(0,n):\n",
        "        print(' '.join(str(e) for e in Matrix[i]))"
      ],
      "execution_count": 2,
      "outputs": [
        {
          "output_type": "stream",
          "text": [
            "3\n",
            "0 1\n",
            "2 3\n",
            "4 0\n",
            "1 2\n",
            "3 4\n"
          ],
          "name": "stdout"
        }
      ]
    }
  ]
}